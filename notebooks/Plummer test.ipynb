{
 "cells": [
  {
   "cell_type": "markdown",
   "metadata": {},
   "source": [
    "## Set kernel = biff"
   ]
  },
  {
   "cell_type": "code",
   "execution_count": null,
   "metadata": {},
   "outputs": [],
   "source": [
    "from __future__ import division, print_function\n",
    "\n",
    "# Third-party\n",
    "import astropy.units as u\n",
    "from astropy.constants import G as _G\n",
    "import h5py\n",
    "import matplotlib as mpl\n",
    "import matplotlib.pyplot as pl\n",
    "import numpy as np\n",
    "%matplotlib inline\n",
    "pl.style.use(\"apw-notebook\") # comment this out to run at home\n",
    "importgala.potential as gp\n",
    "fromgala.units import galactic\n",
    "\n",
    "import biff\n",
    "G = _G.decompose(galactic).value"
   ]
  },
  {
   "cell_type": "code",
   "execution_count": null,
   "metadata": {
    "collapsed": true
   },
   "outputs": [],
   "source": [
    "def _plummer_density(x, y, z, M, r_s):\n",
    "    \"\"\"\n",
    "    .. warning::\n",
    "\n",
    "        THIS IS AN INTERNAL FUNCTION -- USE ``plummer_density()`` INSTEAD.\n",
    "\n",
    "    \"\"\"\n",
    "    r2 = x*x + y*y + z*z\n",
    "    return (3*M / (4*np.pi*r_s**3)) * (1 + r2/r_s**2)**(-5/2.)\n"
   ]
  },
  {
   "cell_type": "code",
   "execution_count": null,
   "metadata": {},
   "outputs": [],
   "source": [
    "true_M = 1/G\n",
    "true_r_s = 1.\n",
    "\n",
    "x = np.logspace(-2,1,512)\n",
    "xyz = np.zeros((len(x),3))\n",
    "xyz[:,0] = x\n",
    "\n",
    "pot = gp.PlummerPotential(m=true_M, b=true_r_s, units=galactic)\n",
    "true_pot = pot.value(xyz.T).value\n",
    "true_dens = pot.density(xyz.T).value\n",
    "true_grad = pot.gradient(xyz.T).value.T"
   ]
  },
  {
   "cell_type": "code",
   "execution_count": null,
   "metadata": {},
   "outputs": [],
   "source": [
    "nmax = 16\n",
    "lmax = 0\n",
    "\n",
    "Snlm = np.zeros((nmax+1,lmax+1,lmax+1))\n",
    "Serr = np.zeros((nmax+1,lmax+1,lmax+1))\n",
    "Tnlm = np.zeros((nmax+1,lmax+1,lmax+1))\n",
    "Terr = np.zeros((nmax+1,lmax+1,lmax+1))\n",
    "\n",
    "nlms = []\n",
    "for n in range(nmax+1):\n",
    "    for l in range(lmax+1):\n",
    "        for m in range(l+1):\n",
    "            nlms.append([n,l,m])\n",
    "       \n",
    "for nlm in nlms:\n",
    "    n,l,m = nlm\n",
    "    print(n,l,m)\n",
    "    (S,S_err),(T,T_err) = biff.compute_coeffs(_plummer_density, nlm=nlm, \n",
    "                                              M=true_M, r_s=true_r_s, args=(true_M,true_r_s),\n",
    "                                              epsrel=1E-9)\n",
    "    Snlm[n,l,m] = S\n",
    "    Serr[n,l,m] = S_err\n",
    "    Tnlm[n,l,m] = T\n",
    "    Terr[n,l,m] = T_err\n",
    "        \n",
    "# OR: load from file..\n",
    "# with h5py.File(\"/Users/adrian/projects/ophiuchus/data/Anlm_plummer.h5\") as f:\n",
    "#     nmax = f['nlm'].attrs['nmax']\n",
    "#     lmax = f['nlm'].attrs['lmax']\n",
    "#     nlm = np.array(f['nlm'])\n",
    "#     _Anlm = np.array(f['Anlm'])\n",
    "#     Anlm_err = np.array(f['Anlm_err'])\n",
    "    \n",
    "#     ix = np.abs(_Anlm) > np.abs(Anlm_err)\n",
    "#     nlm = nlm[ix]\n",
    "#     _Anlm = _Anlm[ix]\n",
    "\n",
    "# Anlm = np.zeros((nmax+1, lmax+1, lmax+1))\n",
    "# for (n,l,m),A in zip(nlm, _Anlm):\n",
    "#     Anlm[n,l,m] = A"
   ]
  },
  {
   "cell_type": "code",
   "execution_count": null,
   "metadata": {},
   "outputs": [],
   "source": [
    "pl.semilogy(np.array(nlms)[::2,0], np.abs(Snlm.flat/Snlm[0,0,0])[::2])\n",
    "pl.xlim(0,10)\n",
    "pl.ylim(1E-6, 1)"
   ]
  },
  {
   "cell_type": "code",
   "execution_count": null,
   "metadata": {},
   "outputs": [],
   "source": [
    "bfe_dens = biff.density(xyz, Snlm, Tnlm, nmax, lmax, true_M, true_r_s)\n",
    "bfe_pot = biff.potential(xyz, Snlm, Tnlm, nmax, lmax, G, true_M, true_r_s)\n",
    "bfe_grad = biff.gradient(xyz, Snlm, Tnlm, nmax, lmax, G, true_M, true_r_s)"
   ]
  },
  {
   "cell_type": "code",
   "execution_count": null,
   "metadata": {},
   "outputs": [],
   "source": [
    "(true_pot / bfe_pot)[0], (true_dens / bfe_dens)[0], (true_grad / bfe_grad)[0,0]"
   ]
  },
  {
   "cell_type": "code",
   "execution_count": null,
   "metadata": {},
   "outputs": [],
   "source": [
    "fig,axes = pl.subplots(3, 1, figsize=(8,10), sharex=True)\n",
    "\n",
    "axes[0].set_ylabel(r'$\\rho$')\n",
    "axes[0].loglog(x, true_dens, marker=None)\n",
    "axes[0].loglog(x, bfe_dens, marker=None)\n",
    "\n",
    "axes[1].set_ylabel(r'$\\Phi$')\n",
    "axes[1].semilogx(x, true_pot, marker=None)\n",
    "axes[1].semilogx(x, bfe_pot, marker=None)\n",
    "\n",
    "axes[2].set_ylabel(r'${\\rm d}\\Phi/{\\rm d}x$')\n",
    "axes[2].semilogx(x, true_grad[:,0], marker=None)\n",
    "axes[2].semilogx(x, bfe_grad[:,0], marker=None)\n",
    "\n",
    "fig.tight_layout()"
   ]
  },
  {
   "cell_type": "code",
   "execution_count": null,
   "metadata": {},
   "outputs": [],
   "source": [
    "fig,axes = pl.subplots(3, 1, figsize=(8,10), sharey=True)\n",
    "\n",
    "axes[0].set_ylabel(r'$\\rho$')\n",
    "axes[0].loglog(x, np.abs((true_dens-bfe_dens)/true_dens), marker=None)\n",
    "\n",
    "axes[1].set_ylabel(r'$\\Phi$')\n",
    "axes[1].loglog(x, np.abs((true_pot-bfe_pot)/true_pot), marker=None)\n",
    "\n",
    "axes[2].set_ylabel(r'${\\rm d}\\Phi/{\\rm d}x$')\n",
    "axes[2].loglog(x, np.abs((true_grad[:,0]-bfe_grad[:,0])/true_grad[:,0]), marker=None)\n",
    "\n",
    "axes[0].set_ylim(1E-12, 1E0)\n",
    "fig.tight_layout()"
   ]
  },
  {
   "cell_type": "code",
   "execution_count": null,
   "metadata": {
    "collapsed": true
   },
   "outputs": [],
   "source": []
  }
 ],
 "metadata": {
  "git": {
   "suppress_output": false
  },
  "kernelspec": {
   "display_name": "Python [conda env:gala-biff-dev]",
   "language": "python",
   "name": "conda-env-gala-biff-dev-py"
  },
  "language_info": {
   "codemirror_mode": {
    "name": "ipython",
    "version": 3
   },
   "file_extension": ".py",
   "mimetype": "text/x-python",
   "name": "python",
   "nbconvert_exporter": "python",
   "pygments_lexer": "ipython3",
   "version": "3.6.2"
  }
 },
 "nbformat": 4,
 "nbformat_minor": 1
}